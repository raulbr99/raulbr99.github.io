{
  "nbformat": 4,
  "nbformat_minor": 0,
  "metadata": {
    "colab": {
      "provenance": [],
      "toc_visible": true,
      "authorship_tag": "ABX9TyOu9SZ1I7AriNP6Adn//kzE",
      "include_colab_link": true
    },
    "kernelspec": {
      "name": "python3",
      "display_name": "Python 3"
    },
    "language_info": {
      "name": "python"
    }
  },
  "cells": [
    {
      "cell_type": "markdown",
      "metadata": {
        "id": "view-in-github",
        "colab_type": "text"
      },
      "source": [
        "<a href=\"https://colab.research.google.com/github/raulbr99/raulbr99.github.io/blob/master/WooCommerce.ipynb\" target=\"_parent\"><img src=\"https://colab.research.google.com/assets/colab-badge.svg\" alt=\"Open In Colab\"/></a>"
      ]
    },
    {
      "cell_type": "markdown",
      "source": [
        "# SET UP KEYS WITH AXIOS\n",
        "\n",
        "\n",
        "\n",
        "```\n",
        "npm install axios\n",
        "```\n",
        "OR\n",
        "```\n",
        "yarn add axios\n",
        "```\n",
        "\n",
        "Now, let's start by importing Axios and setting up the configuration for our API calls.\n",
        "\n",
        "THIS WILL BE THE KEY AND SECRET\n",
        "\n",
        "\n",
        "\n",
        "\n",
        "\n"
      ],
      "metadata": {
        "id": "1VXTY6cIQ6am"
      }
    },
    {
      "cell_type": "code",
      "source": [
        "%%javascript\n",
        "import axios from 'axios';\n",
        "\n",
        "const API_URL = 'https://ecann.eu/wp-json/wc/v3';\n",
        "const KEY = 'ck_383f6a7363494b8ba7b11c733c26543392d054c0';\n",
        "const SECRET = 'cs_d551bf996662bc97d8817dd0c9ccfff1f4e4087a';\n",
        "\n",
        "const api = axios.create({\n",
        "  baseURL: API_URL,\n",
        "  auth: {\n",
        "    username: KEY,\n",
        "    password: SECRET,\n",
        "  },\n",
        "});"
      ],
      "metadata": {
        "colab": {
          "base_uri": "https://localhost:8080/",
          "height": 17
        },
        "id": "IibYtK7uRzLt",
        "outputId": "09fdf015-9558-409d-f90d-1794fd1e31a8"
      },
      "execution_count": 5,
      "outputs": [
        {
          "output_type": "display_data",
          "data": {
            "text/plain": [
              "<IPython.core.display.Javascript object>"
            ],
            "application/javascript": [
              "import axios from 'axios';\n",
              "\n",
              "const API_URL = 'https://ecann.eu/wp-json/wc/v3';\n",
              "const KEY = 'ck_383f6a7363494b8ba7b11c733c26543392d054c0';\n",
              "const SECRET = 'cs_d551bf996662bc97d8817dd0c9ccfff1f4e4087a';\n",
              "\n",
              "const api = axios.create({\n",
              "  baseURL: API_URL,\n",
              "  auth: {\n",
              "    username: KEY,\n",
              "    password: SECRET,\n",
              "  },\n",
              "});\n",
              "\n",
              "api.get('/products')\n",
              "  .then(response => console.log(response.data))\n",
              "  .catch(error => console.error(error));\n"
            ]
          },
          "metadata": {}
        }
      ]
    },
    {
      "cell_type": "markdown",
      "source": [
        "We have create a instance of Axios with a base URL pointing to ECANN WooCommerce store API. We have also set up authentication using our consumer key and secret"
      ],
      "metadata": {
        "id": "a18TAhltTzPk"
      }
    },
    {
      "cell_type": "code",
      "source": [
        "%%javascript\n",
        "api.get('/products')\n",
        "  .then(response => console.log(response.data))\n",
        "  .catch(error => console.error(error));\n"
      ],
      "metadata": {
        "colab": {
          "base_uri": "https://localhost:8080/",
          "height": 17
        },
        "id": "GsAhbF7xU_0N",
        "outputId": "47124848-cea0-4b17-8e2d-560802e250c2"
      },
      "execution_count": 6,
      "outputs": [
        {
          "output_type": "display_data",
          "data": {
            "text/plain": [
              "<IPython.core.display.Javascript object>"
            ],
            "application/javascript": [
              "api.get('/products')\n",
              "  .then(response => console.log(response.data))\n",
              "  .catch(error => console.error(error));\n"
            ]
          },
          "metadata": {}
        }
      ]
    },
    {
      "cell_type": "markdown",
      "source": [
        "# PRODUCTS\n",
        "\n",
        "1.   GET ALL\n",
        "```\n",
        "api.get('/products')\n",
        "  .then(response => console.log(response.data))\n",
        "  .catch(error => console.error(error));\n",
        "```\n",
        "2.   POST\n",
        "3.   UPDATE\n",
        "4.   DELETE\n",
        "\n",
        "\n",
        "\n"
      ],
      "metadata": {
        "id": "Ui7snNp4pSOb"
      }
    },
    {
      "cell_type": "markdown",
      "source": [
        "# ORDERS"
      ],
      "metadata": {
        "id": "uyLsjHLLbjW2"
      }
    },
    {
      "cell_type": "markdown",
      "source": [
        "# CUSTOMERS"
      ],
      "metadata": {
        "id": "dzjoBkGcbnu-"
      }
    },
    {
      "cell_type": "markdown",
      "source": [
        "#COUPONS"
      ],
      "metadata": {
        "id": "kIABnBc9bqZl"
      }
    }
  ]
}